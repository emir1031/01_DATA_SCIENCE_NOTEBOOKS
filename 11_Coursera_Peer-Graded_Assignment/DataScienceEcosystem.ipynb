{
 "cells": [
  {
   "cell_type": "markdown",
   "metadata": {},
   "source": [
    "<center>\n",
    "    <img src=\"https://cf-courses-data.s3.us.cloud-object-storage.appdomain.cloud/IBMDeveloperSkillsNetwork-DS0105EN-SkillsNetwork/labs/Module2/images/SN_web_lightmode.png\" width=\"300\" alt=\"cognitiveclass.ai logo\">\n",
    "</center>\n"
   ]
  },
  {
   "cell_type": "markdown",
   "metadata": {},
   "source": [
    "#### Add your code below following the instructions given in the course\n"
   ]
  },
  {
   "cell_type": "markdown",
   "metadata": {
    "tags": []
   },
   "source": [
    "# Data Science Tools and Ecosystem"
   ]
  },
  {
   "cell_type": "markdown",
   "metadata": {},
   "source": [
    "This notebook is created for providing the best answers of internal questions of Coursera's Data Science Questions! <br>\n",
    "In this notebook, Data Science Tools and Ecosystem are summarized."
   ]
  },
  {
   "cell_type": "markdown",
   "metadata": {},
   "source": [
    "**Some of the popular languages that Data Scientists use are:**\n",
    "1. Python\n",
    "2. R\n",
    "3. SQL\n",
    "4. MATLAB\n",
    "5. SAS\n",
    "6. Julia\n",
    "7. Scala\n",
    "8. Java\n",
    "9. C/C++"
   ]
  },
  {
   "cell_type": "markdown",
   "metadata": {},
   "source": [
    "**Some of the commonly used libraries used by Data Scientists include:**\n",
    "\n",
    "***In Python***\n",
    "1. NumPy\n",
    "2. Pandas\n",
    "3. Matplotlib\n",
    "4. Seaborn\n",
    "5. Scikit-learn\n",
    "6. TensorFlow\n",
    "7. Keras\n",
    "8. PyTorch\n",
    "9. NLTK\n",
    "10. OpenCV\n",
    "\n",
    "***In R***\n",
    "1. dplyr\n",
    "2. ggplot2\n",
    "3. tidyr\n",
    "4. data.table\n",
    "5. caret\n",
    "6. randomForest\n",
    "7. glmnet\n",
    "8. ROCR\n",
    "9. xgboost\n",
    "10. Shiny"
   ]
  },
  {
   "cell_type": "markdown",
   "metadata": {
    "jp-MarkdownHeadingCollapsed": true,
    "tags": []
   },
   "source": [
    "**Data Science Tools:**\n",
    "\n",
    "| Data Science Tools |\n",
    "| --- |\n",
    "| RStudio |\n",
    "| TensorFlow |\n",
    "| Apache Spark |"
   ]
  },
  {
   "cell_type": "markdown",
   "metadata": {},
   "source": [
    "### Below are a few examples of evaluating arithmetic expressions in Python\n",
    "\n",
    "Arithmetic expressions are mathematical expressions that involve arithmetic operations such as addition, subtraction, multiplication, and division. In programming, arithmetic expressions are commonly used to perform calculations and manipulate numerical data.\n",
    "\n",
    "Here are some examples of arithmetic expressions:\n",
    "\n",
    "| Expression         | Result |\n",
    "|--------------------|--------|\n",
    "| 5 + 3              | 8      |\n",
    "| 10 - 4             | 6      |\n",
    "| 2 * 6              | 12     |\n",
    "| 10 / 2             | 5      |\n",
    "| 11 % 4             | 3      |\n",
    "| (4 + 6) * 2        | 20     |\n",
    "| 5 * 3 - 2          | 13     |\n",
    "| 2 ** 3             | 8      |\n",
    "| 2.5 + 3.7          | 6.2    |\n",
    "| 10 // 3            | 3      |"
   ]
  },
  {
   "cell_type": "code",
   "execution_count": 5,
   "metadata": {},
   "outputs": [
    {
     "data": {
      "text/plain": [
       "17"
      ]
     },
     "execution_count": 5,
     "metadata": {},
     "output_type": "execute_result"
    }
   ],
   "source": [
    "# This a simple arithmetic expression to mutiply then add integers.\n",
    "(3*4)+5"
   ]
  },
  {
   "cell_type": "code",
   "execution_count": 6,
   "metadata": {},
   "outputs": [
    {
     "name": "stdout",
     "output_type": "stream",
     "text": [
      "3.3333333333333335\n"
     ]
    }
   ],
   "source": [
    "# This will convert 200 minutes to hours by diving by 60\n",
    "minutes = 200\n",
    "hours = minutes / 60\n",
    "print(hours)"
   ]
  },
  {
   "cell_type": "markdown",
   "metadata": {},
   "source": [
    "**Objectives:**\n",
    "\n",
    "In this notebook, we aim to:\n",
    "\n",
    "- List popular languages for Data Science,\n",
    "- Introduce basic arithmetic expressions,\n",
    "- Demonstrate multiplication and addition with numbers,\n",
    "- Convert minutes to hours using arithmetic expressions.\n"
   ]
  },
  {
   "cell_type": "markdown",
   "metadata": {},
   "source": [
    "## Author\n",
    "Emirhan BOZDOGAN"
   ]
  }
 ],
 "metadata": {
  "kernelspec": {
   "display_name": "Python",
   "language": "python",
   "name": "conda-env-python-py"
  },
  "language_info": {
   "codemirror_mode": {
    "name": "ipython",
    "version": 3
   },
   "file_extension": ".py",
   "mimetype": "text/x-python",
   "name": "python",
   "nbconvert_exporter": "python",
   "pygments_lexer": "ipython3",
   "version": "3.7.12"
  }
 },
 "nbformat": 4,
 "nbformat_minor": 4
}
